{
 "cells": [
  {
   "cell_type": "code",
   "execution_count": 2,
   "id": "3d294508",
   "metadata": {},
   "outputs": [
    {
     "data": {
      "image/png": "[encoded data removed]",
      "text/plain": [
       "<Figure size 432x288 with 1 Axes>"
      ]
     },
     "metadata": {
      "needs_background": "light"
     },
     "output_type": "display_data"
    }
   ],
   "source": [
    "import nltk\n",
    "from nltk.tokenize import word_tokenize\n",
    "\n",
    "from sklearn.feature_extraction.text import TfidfVectorizer\n",
    "from sklearn.metrics.pairwise import cosine_similarity\n",
    "import matplotlib.pyplot as plt\n",
    "from sklearn.decomposition import PCA\n",
    "\n",
    "\n",
    "\n",
    "\n",
    "\n",
    "############ defining a function for vectorization\n",
    "def get_vector (*str):\n",
    "        texts = [t for t in str]\n",
    "        \n",
    "        my_filter= TfidfVectorizer()\n",
    "        my_filter.fit(texts)\n",
    "        return my_filter.transform(texts).toarray()\n",
    "\n",
    "\n",
    "############ defining a function for similarity\n",
    "\n",
    "def my_similarity(received_vector):\n",
    "     return cosine_similarity(received_vector)\n",
    "### data \n",
    "\n",
    "text1=\"He is a nice boy\"\n",
    "text2=\"She is a nice girl\"\n",
    "text3=\"He is a good painter\"\n",
    "text4=\"He and she both are good athletes\"\n",
    "text5=\"She is good athlete an a good mother along with scholar\"\n",
    "text6=\"Harman study cloud computing for big data in college \"\n",
    "text7=\"It is a wonderful day to go for swimming\"\n",
    "\n",
    "\n",
    "vectors=get_vector(text1,text2,text3,text4,text5,text6,text7)\n",
    "vectors\n",
    "similarity =my_similarity(vectors)\n",
    "similarity\n",
    "\n",
    "\n",
    "\n",
    "########PCA\n",
    "######from sklearn.decomposition import PCA\n",
    "pca=PCA(n_components =2)\n",
    "cosine_pca=pca.fit_transform(similarity)\n",
    "\n",
    "##########  Plot \n",
    "\n",
    "######import matplotlib.pyplot as plt\n",
    "\n",
    "\n",
    "####3 n= no. of rows \n",
    "n = cosine_pca.shape[0]\n",
    "\n",
    "fig, ax =plt.subplots()\n",
    "labels= [\"\"for i in range(n)]\n",
    "for i in range(n) :\n",
    "   label= \"Text-\"+str((i+1))\n",
    "   x= cosine_pca[i][0]\n",
    "   y= cosine_pca[i][1]\n",
    "   ax.scatter(x,y,s=300)\n",
    "   ax.text(x,y,label)\n",
    "plt.show()\n"
   ]
  },
  {
   "cell_type": "code",
   "execution_count": null,
   "id": "e5748927",
   "metadata": {},
   "outputs": [],
   "source": []
  }
 ],
 "metadata": {
  "kernelspec": {
   "display_name": "Python 3",
   "language": "python",
   "name": "python3"
  },
  "language_info": {
   "codemirror_mode": {
    "name": "ipython",
    "version": 3
   },
   "file_extension": ".py",
   "mimetype": "text/x-python",
   "name": "python",
   "nbconvert_exporter": "python",
   "pygments_lexer": "ipython3",
   "version": "3.9.1"
  }
 },
 "nbformat": 4,
 "nbformat_minor": 5
}
